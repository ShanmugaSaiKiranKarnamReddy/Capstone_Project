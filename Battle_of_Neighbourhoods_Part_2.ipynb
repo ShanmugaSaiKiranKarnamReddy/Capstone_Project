{
 "cells": [
  {
   "cell_type": "markdown",
   "metadata": {
    "collapsed": true
   },
   "source": [
    "<h1>Capstone Project - The Battle of Neighbourhoods</h1>"
   ]
  },
  {
   "cell_type": "markdown",
   "metadata": {},
   "source": [
    "<h2>Introduction to Business Problem</h2>"
   ]
  },
  {
   "cell_type": "markdown",
   "metadata": {},
   "source": [
    "<h2>Which locality of all the cities in United States would be the best place to start a Gaming Arcade?</h2>"
   ]
  },
  {
   "cell_type": "markdown",
   "metadata": {},
   "source": [
    "<p>My Manager Mr Maheshwari is interested in starting a gaming cloister in the best locality of all the cities in United states. He defines a best locatlity based on the following constraints</p>"
   ]
  },
  {
   "cell_type": "markdown",
   "metadata": {},
   "source": [
    "<ul>\n",
    "   <li><p>Population density of a locality</p></li>\n",
    "   <li><p>Per Capital income</p></li>\n",
    "    <li><p>Population of each location</p></li>\n",
    "    <li><p>Venues in each locality</p></li>\n",
    "</ul>    "
   ]
  },
  {
   "cell_type": "markdown",
   "metadata": {},
   "source": [
    "<p>The category of the venues that he's interested in are,</p>"
   ]
  },
  {
   "cell_type": "markdown",
   "metadata": {},
   "source": [
    "<ul>\n",
    "   <li><p>Arts and Entertainment</p></li>\n",
    "   <li><p>Shops & Service</p></li>\n",
    "    <li><p>College and University</p></li>\n",
    "    <li><p>Event</p></li>\n",
    "    <li><p>Food</p></li>\n",
    "    <li><p>College and Nightife Spot</p></li>\n",
    "    <li><p>Outdoors & Recreation</p></li>\n",
    "    <li><p>Professional & Other places</p></li>\n",
    "    <li><p>Residence></p></li>\n",
    "    <li><p>Travel & Transport</p></li>\n",
    "</ul> "
   ]
  },
  {
   "cell_type": "markdown",
   "metadata": {},
   "source": [
    "<h1>Data Acquired to investigate Further</h1>"
   ]
  },
  {
   "cell_type": "markdown",
   "metadata": {},
   "source": [
    "<h2>To set up a gaming arcade, we will get the data from the below sources</h2>"
   ]
  },
  {
   "cell_type": "markdown",
   "metadata": {},
   "source": [
    "<ul>\n",
    "    <li>List of all the cities in United States with population density and coordinates:</li> \n",
    "    <a href=\"https://en.wikipedia.org/wiki/List_of_United_States_cities_by_population\">https://en.wikipedia.org/wiki/List_of_United_States_cities_by_population</a>\n",
    "</ul>"
   ]
  },
  {
   "cell_type": "markdown",
   "metadata": {},
   "source": [
    "<ul>\n",
    "    <li>List of all the cities in United States with Per Capita Income:</li> \n",
    "    <a href=\"https://en.wikipedia.org/wiki/List_of_United_States_counties_by_per_capita_income\">https://en.wikipedia.org/wiki/List_of_United_States_counties_by_per_capita_income</a>\n",
    "</ul>"
   ]
  },
  {
   "cell_type": "markdown",
   "metadata": {},
   "source": [
    "<p>Using Four Square API to get the following</p>"
   ]
  },
  {
   "cell_type": "markdown",
   "metadata": {},
   "source": [
    "<ul>\n",
    "    <li>List of all venues in each city</li> \n",
    "     <li>List of all venues in each locality in the selected city</li> \n",
    "    </ul>"
   ]
  },
  {
   "cell_type": "markdown",
   "metadata": {},
   "source": [
    "<p>Using the above data we will first select best city to proceed with based on the values like Population density, per capita income of the state, number of venues (as we are giving weights to each venue based on its category).</p>"
   ]
  },
  {
   "cell_type": "markdown",
   "metadata": {},
   "source": [
    "<p>Once we select a city, we then go hunting for Localities. Again, we do it using the same approach i.e. based on the scores of venues in each locality</p>"
   ]
  },
  {
   "cell_type": "code",
   "execution_count": null,
   "metadata": {},
   "outputs": [],
   "source": []
  }
 ],
 "metadata": {
  "kernelspec": {
   "display_name": "Python 3.6",
   "language": "python",
   "name": "python3"
  },
  "language_info": {
   "codemirror_mode": {
    "name": "ipython",
    "version": 3
   },
   "file_extension": ".py",
   "mimetype": "text/x-python",
   "name": "python",
   "nbconvert_exporter": "python",
   "pygments_lexer": "ipython3",
   "version": "3.6.8"
  }
 },
 "nbformat": 4,
 "nbformat_minor": 1
}
